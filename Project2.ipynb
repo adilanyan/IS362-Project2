{
 "cells": [
  {
   "cell_type": "code",
   "execution_count": 1,
   "metadata": {},
   "outputs": [],
   "source": [
    "import matplotlib\n",
    "import numpy as np\n",
    "import pandas as pd\n",
    "import matplotlib.pyplot as plt\n",
    "%matplotlib inline\n",
    "plt.rcParams[\"figure.figsize\"] = [10,10]"
   ]
  },
  {
   "cell_type": "code",
   "execution_count": null,
   "metadata": {},
   "outputs": [],
   "source": [
    "filename = 'students.txt'\n",
    "sdf = pd.read_csv(filename)\n",
    "sdf"
   ]
  },
  {
   "cell_type": "code",
   "execution_count": null,
   "metadata": {},
   "outputs": [],
   "source": [
    "filename = 'students.txt'\n",
    "sdf = pd.read_csv(filename)\n",
    "sdf.rename(columns = {'sex and age':'sna'},inplace = True)\n",
    "sdf[['sex','age']] = sdf.sna.str.split('_',expand = True,)\n",
    "del sdf['sna']\n",
    "sdf = sdf[[\"name\",'sex','age','phone','test number','term 1','term 2','term 3']]\n",
    "sdf['phone'] = sdf.phone.astype(str)\n",
    "sdf['average'] = sdf.mean(axis=1)\n",
    "sdf1 = sdf.iloc[:5]\n",
    "sdf2 = sdf.iloc[5:]\n",
    "sdf1.plot(x = 'name',kind = 'bar',title = \"Test 1\",logy = True)\n",
    "sdf2.plot(x = 'name',kind = 'bar',title = \"Test 2\",logy = True)"
   ]
  },
  {
   "cell_type": "code",
   "execution_count": null,
   "metadata": {},
   "outputs": [],
   "source": [
    "filename = 'animals.txt'\n",
    "adf = pd.read_csv(filename)\n",
    "adf"
   ]
  },
  {
   "cell_type": "code",
   "execution_count": null,
   "metadata": {},
   "outputs": [],
   "source": [
    "filename = 'animals.txt'\n",
    "adf = pd.read_csv(filename)\n",
    "adf.rename(columns = {'weight':'weight(lb)'},inplace = True)\n",
    "adf.rename(columns = {'length':'length(in)'},inplace = True)\n",
    "adf.iloc[2][2] = 194\n",
    "adf.iloc[1][2] = 125\n",
    "adf.iloc[0][2] = 431\n",
    "adf.iloc[1][3] = 86.64\n",
    "adf.iloc[0][3] = 50\n",
    "adf.iloc[2][3] = 52.37\n",
    "adf.plot(x = 'Species', kind = 'bar')"
   ]
  },
  {
   "cell_type": "code",
   "execution_count": null,
   "metadata": {},
   "outputs": [],
   "source": [
    "filename='cars.txt'\n",
    "cdf = pd.read_csv(filename)\n",
    "cdf"
   ]
  },
  {
   "cell_type": "code",
   "execution_count": null,
   "metadata": {},
   "outputs": [],
   "source": [
    "filename = 'cars.txt'\n",
    "cdf = pd.read_csv(filename)\n",
    "cdf['price'] = cdf['price'].str.replace('$', '')\n",
    "cdf['price'] = cdf['price'].astype(float)\n",
    "cdf.plot(x = 'year',y = 'price',kind = 'bar')"
   ]
  }
 ],
 "metadata": {
  "kernelspec": {
   "display_name": "Python 3",
   "language": "python",
   "name": "python3"
  },
  "language_info": {
   "codemirror_mode": {
    "name": "ipython",
    "version": 3
   },
   "file_extension": ".py",
   "mimetype": "text/x-python",
   "name": "python",
   "nbconvert_exporter": "python",
   "pygments_lexer": "ipython3",
   "version": "3.8.3"
  }
 },
 "nbformat": 4,
 "nbformat_minor": 4
}
